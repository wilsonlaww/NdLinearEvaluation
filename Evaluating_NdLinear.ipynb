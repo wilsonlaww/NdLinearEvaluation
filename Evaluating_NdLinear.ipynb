{
  "nbformat": 4,
  "nbformat_minor": 0,
  "metadata": {
    "colab": {
      "provenance": []
    },
    "kernelspec": {
      "name": "python3",
      "display_name": "Python 3"
    },
    "language_info": {
      "name": "python"
    }
  },
  "cells": [
    {
      "cell_type": "markdown",
      "source": [
        "# **Evaluating NdLinear: Shrinking Neural Networks**"
      ],
      "metadata": {
        "id": "YvT_M31sWHiV"
      }
    },
    {
      "cell_type": "markdown",
      "source": [
        "### **Objective: See NdLinear's improvements and how well it performs compared to the standard Linear layer.**\n",
        "\n"
      ],
      "metadata": {
        "id": "BzpVhjLrVysk"
      }
    },
    {
      "cell_type": "code",
      "source": [
        "!rm -rf NdLinear\n",
        "!git clone https://github.com/ensemble-core/NdLinear.git"
      ],
      "metadata": {
        "colab": {
          "base_uri": "https://localhost:8080/"
        },
        "id": "QCC3aErZQTjK",
        "outputId": "fe4ca3b9-393f-4eaf-e971-678dae90fd45"
      },
      "execution_count": 1,
      "outputs": [
        {
          "output_type": "stream",
          "name": "stdout",
          "text": [
            "Cloning into 'NdLinear'...\n",
            "remote: Enumerating objects: 26, done.\u001b[K\n",
            "remote: Counting objects: 100% (26/26), done.\u001b[K\n",
            "remote: Compressing objects: 100% (25/25), done.\u001b[K\n",
            "remote: Total 26 (delta 5), reused 11 (delta 0), pack-reused 0 (from 0)\u001b[K\n",
            "Receiving objects: 100% (26/26), 60.40 KiB | 1.02 MiB/s, done.\n",
            "Resolving deltas: 100% (5/5), done.\n"
          ]
        }
      ]
    },
    {
      "cell_type": "code",
      "source": [
        "import sys\n",
        "import importlib.util\n",
        "\n",
        "# Step 1: Define path to the actual file\n",
        "ndlinear_path = \"/content/NdLinear/ndlinear.py\"\n",
        "\n",
        "# Step 2: Load it dynamically\n",
        "spec = importlib.util.spec_from_file_location(\"ndlinear_module\", ndlinear_path)\n",
        "ndlinear_module = importlib.util.module_from_spec(spec)\n",
        "spec.loader.exec_module(ndlinear_module)\n",
        "\n",
        "# Step 3: Grab the class\n",
        "NdLinear = ndlinear_module.NdLinear\n"
      ],
      "metadata": {
        "id": "pH4d1NIAR5Jk"
      },
      "execution_count": 2,
      "outputs": []
    },
    {
      "cell_type": "markdown",
      "source": [
        "**Step 1: Load the data (images)**"
      ],
      "metadata": {
        "id": "-HOVCdPPVGCb"
      }
    },
    {
      "cell_type": "code",
      "source": [
        "import torch\n",
        "from torchvision import datasets, transforms\n",
        "from torch.utils.data import DataLoader\n",
        "\n",
        "# I need to change format and data type of the picture so PyTorch can use it\n",
        "transform = transforms.ToTensor()\n",
        "\n",
        "# Here, I download the MNIST training and test sets\n",
        "train_dataset = datasets.MNIST(root='data', train=True, download=True, transform=transform)\n",
        "test_dataset = datasets.MNIST(root='data', train=False, download=True, transform=transform)\n",
        "\n",
        "# Create data loaders\n",
        "train_loader = DataLoader(train_dataset, batch_size=64, shuffle=True)\n",
        "test_loader = DataLoader(test_dataset, batch_size=64, shuffle=False)\n",
        "\n"
      ],
      "metadata": {
        "colab": {
          "base_uri": "https://localhost:8080/"
        },
        "id": "QiRrcACsSMHY",
        "outputId": "5f29c698-80d2-4975-9a1b-9021fd9ae4b3"
      },
      "execution_count": 3,
      "outputs": [
        {
          "output_type": "stream",
          "name": "stderr",
          "text": [
            "100%|██████████| 9.91M/9.91M [00:00<00:00, 30.3MB/s]\n",
            "100%|██████████| 28.9k/28.9k [00:00<00:00, 855kB/s]\n",
            "100%|██████████| 1.65M/1.65M [00:00<00:00, 7.72MB/s]\n",
            "100%|██████████| 4.54k/4.54k [00:00<00:00, 4.19MB/s]\n"
          ]
        }
      ]
    },
    {
      "cell_type": "markdown",
      "source": [
        "I want to visualize the before and after transformation images, just to get a feel of the images we are working with."
      ],
      "metadata": {
        "id": "SNwX9L96aeM6"
      }
    },
    {
      "cell_type": "code",
      "source": [
        "from torchvision import datasets\n",
        "from torchvision import transforms\n",
        "from PIL import Image\n",
        "import matplotlib.pyplot as plt\n",
        "import numpy as np\n",
        "\n",
        "# Load MNIST\n",
        "raw_mnist = datasets.MNIST(root='data', train=True, download=True)\n",
        "\n",
        "# Grab a sample image\n",
        "raw_img, label = raw_mnist[0]\n",
        "\n",
        "# Apply transformation\n",
        "tensor_transform = transforms.ToTensor()\n",
        "tensor_img = tensor_transform(raw_img)\n",
        "\n",
        "# Plot image before transformation\n",
        "plt.subplot(1, 2, 1)\n",
        "plt.imshow(raw_img, cmap='gray')\n",
        "plt.title(f'Before: PIL\\nLabel: {label}')\n",
        "plt.axis('off')\n",
        "\n",
        "# Plot image after transformation\n",
        "plt.subplot(1, 2, 2)\n",
        "plt.imshow(tensor_img.squeeze(), cmap='gray')\n",
        "plt.title(f'After: Tensor\\nShape: {tensor_img.shape}')\n",
        "plt.axis('off')\n",
        "\n",
        "plt.tight_layout()\n",
        "plt.show()\n",
        "\n",
        "print(\"Before (PIL):\", type(raw_img))\n",
        "print(\"After (Tensor):\", type(tensor_img), \"with shape\", tensor_img.shape)\n"
      ],
      "metadata": {
        "colab": {
          "base_uri": "https://localhost:8080/",
          "height": 412
        },
        "id": "51o-js4FaIFl",
        "outputId": "09d56f97-2282-4363-bbde-46f587fa384b"
      },
      "execution_count": 4,
      "outputs": [
        {
          "output_type": "display_data",
          "data": {
            "text/plain": [
              "<Figure size 640x480 with 2 Axes>"
            ],
            "image/png": "[encoded data removed]"
          },
          "metadata": {}
        },
        {
          "output_type": "stream",
          "name": "stdout",
          "text": [
            "Before (PIL): <class 'PIL.Image.Image'>\n",
            "After (Tensor): <class 'torch.Tensor'> with shape torch.Size([1, 28, 28])\n"
          ]
        }
      ]
    },
    {
      "cell_type": "markdown",
      "source": [
        "# **Let's build nn.linear first!**"
      ],
      "metadata": {
        "id": "gUU8IVxiDeWZ"
      }
    },
    {
      "cell_type": "markdown",
      "source": [
        "## **Step 2: Build MLP Baseline Model Using nn.linear**\n",
        "\n",
        "\n",
        "1.   Flatten the image into a long vector of numbers\n",
        "\n",
        "2.   Then pass it through a few fully connected layers to learn features like edges and textures\n",
        "\n",
        "3.   Then classify the result into one of the 10 digit classes, 0-9\n",
        "\n",
        "\n"
      ],
      "metadata": {
        "id": "Vm0pyJU1ayzw"
      }
    },
    {
      "cell_type": "code",
      "source": [
        "import torch.nn as nn\n",
        "import torch.nn.functional as F\n",
        "\n",
        "#Lets use a 3 layers model for this problem.\n",
        "class MLPBaseline(nn.Module):\n",
        "  #Build and setup the model\n",
        "    def __init__(self):\n",
        "        super().__init__()\n",
        "        self.fc1 = nn.Linear(28*28, 128)  # input is 28*28 = 784 numbers ane compress it to 128\n",
        "        self.fc2 = nn.Linear(128, 64)     # hidden to another hidden, compress 128 to 64\n",
        "        self.fc3 = nn.Linear(64, 10)      # hidden to output of 10 numbers\n",
        "\n",
        "    #Run the model given the image\n",
        "    def forward(self, x):\n",
        "        x = x.view(-1, 28*28)             # I first flatten image from 28x28 to 784, 2D to 1D\n",
        "        x = F.relu(self.fc1(x))           # Then I pass through first hidden layer\n",
        "        x = F.relu(self.fc2(x))           #Then I pass through second hidden layer\n",
        "        return self.fc3(x)                # Lastly, I return 10 logits, with the biggest logit = digit the model predicts\n"
      ],
      "metadata": {
        "id": "wkxMxPw-alfH"
      },
      "execution_count": 5,
      "outputs": []
    },
    {
      "cell_type": "markdown",
      "source": [
        "# **Step 3: Train the Model**\n",
        "\n",
        "Here, we will:\n",
        "1. Create a loss function to measure mistakes (loss_fn)\n",
        "\n",
        "2. Optimize to improve its guesses (optimizer)\n",
        "\n"
      ],
      "metadata": {
        "id": "AnxUeriQcreY"
      }
    },
    {
      "cell_type": "code",
      "source": [
        "#Build the model we defined in the last step\n",
        "model = MLPBaseline()\n",
        "\n",
        "#Lets define the loss function using Cross Entropy Loss\n",
        "#Cross Entropy Loss is the best loss for classification tasks\n",
        "loss_fn = nn.CrossEntropyLoss()\n",
        "\n",
        "#I defined an optimizer here\n",
        "#Lets use adam because helps your model learn fast and safely, start with learning rate of 0.001.\n",
        "#This means move 0.1% in the direction of improvement\n",
        "import torch.optim as optim\n",
        "optimizer = optim.Adam(model.parameters(), lr=0.001)"
      ],
      "metadata": {
        "id": "cyfWpIlogsVv"
      },
      "execution_count": 6,
      "outputs": []
    },
    {
      "cell_type": "markdown",
      "source": [
        "Then we train the model"
      ],
      "metadata": {
        "id": "ya-KRy3u8eKs"
      }
    },
    {
      "cell_type": "code",
      "source": [
        "#I will run the dataset through the model 5 times\n",
        "num_epochs = 5\n",
        "\n",
        "for epoch in range(num_epochs):\n",
        "    total_loss = 0\n",
        "    for images, labels in train_loader:\n",
        "\n",
        "        # input images into model, calls forward() function and outputs logits for each image.\n",
        "        output = model(images)\n",
        "\n",
        "        # 2. Compare the outputs to the actual labels\n",
        "        loss = loss_fn(output, labels)\n",
        "\n",
        "        # 3. Backpropagation\n",
        "        #I made sure to always clears old gradients from the previous batch\n",
        "        optimizer.zero_grad()\n",
        "        #Calculates how to change each weight to make the loss smaller\n",
        "        loss.backward()\n",
        "        #Updates the model’s weights based on the gradients\n",
        "        optimizer.step()\n",
        "\n",
        "        #Lets keep track of total loss for each Epoch\n",
        "        total_loss += loss.item()\n",
        "\n",
        "    print(f\"Epoch {epoch+1}, Loss: {total_loss:.4f}\")\n",
        "\n"
      ],
      "metadata": {
        "colab": {
          "base_uri": "https://localhost:8080/"
        },
        "id": "e40Jj2gJ9Eim",
        "outputId": "be207a4a-a826-417e-e2e9-3fa271c8f848"
      },
      "execution_count": 7,
      "outputs": [
        {
          "output_type": "stream",
          "name": "stdout",
          "text": [
            "Epoch 1, Loss: 317.7707\n",
            "Epoch 2, Loss: 132.6800\n",
            "Epoch 3, Loss: 92.6011\n",
            "Epoch 4, Loss: 69.0608\n",
            "Epoch 5, Loss: 53.5250\n"
          ]
        }
      ]
    },
    {
      "cell_type": "markdown",
      "source": [
        "# **Step 4: Let's Evaluate Model Accuracy**"
      ],
      "metadata": {
        "id": "cgzYGPLWBLBx"
      }
    },
    {
      "cell_type": "code",
      "source": [
        "correct = 0\n",
        "total = 0\n",
        "model.eval()  # Set model to evaluation mode\n",
        "\n",
        "with torch.no_grad():  #No need for gradients in testing, we save memory and time\n",
        "    for images, labels in test_loader:\n",
        "        outputs = model(images) #Same as training, outputs logits for each image\n",
        "        predicted = torch.argmax(outputs, dim=1) #Grabs the largest logits for each image\n",
        "        total += labels.size(0)\n",
        "        correct += (predicted == labels).sum().item() #Find the number of correct predictions out of total images\n",
        "\n",
        "accuracy = 100 * correct / total\n",
        "print(f'Test Accuracy: {accuracy:.2f}%')\n",
        "\n",
        "#Parameters: all the trainable weights and biases across this entire model.\n",
        "print(\"Baseline params:\", sum(p.numel() for p in model.parameters()))"
      ],
      "metadata": {
        "colab": {
          "base_uri": "https://localhost:8080/"
        },
        "id": "G8qpt81ZBTaY",
        "outputId": "cfedbdc3-e4ae-4fc1-c610-7f7b542123c6"
      },
      "execution_count": 8,
      "outputs": [
        {
          "output_type": "stream",
          "name": "stdout",
          "text": [
            "Test Accuracy: 97.48%\n",
            "Baseline params: 109386\n"
          ]
        }
      ]
    },
    {
      "cell_type": "markdown",
      "source": [
        "# **We are ready for NdLinear's version!**\n",
        "# **I will demonstrate Example 4: Edge Case**\n",
        "(Steps are similar to nn linear's implementation)\n",
        "\n",
        "# **Step A: Build NdLinear's MLP Baseline Model**"
      ],
      "metadata": {
        "id": "9GKpPorsD_lL"
      }
    },
    {
      "cell_type": "code",
      "source": [
        "import torch.nn as nn\n",
        "import torch.nn.functional as F\n",
        "\n",
        "class MLPNdLinear(nn.Module):\n",
        "    def __init__(self):\n",
        "        super().__init__()\n",
        "        self.fc1 = NdLinear((28*28,), (128,)) #First layer, compress to 128 features\n",
        "        self.fc2 = NdLinear((128,), (64,)) #Second layer, compress to 64 features\n",
        "        self.fc3 = NdLinear((64,), (10,)) #Compress and output to 10 logits\n",
        "\n",
        "    def forward(self, x):\n",
        "        x = x.view(-1, 28*28) #Flatten to 784 features\n",
        "        x = F.relu(self.fc1(x)) #First layer, only keeps positive numbers\n",
        "        x = F.relu(self.fc2(x)) #Second layer, only keeps positive numbers\n",
        "        return self.fc3(x) #Return the raw logits\n"
      ],
      "metadata": {
        "id": "zTEI6JT3EVbi"
      },
      "execution_count": 9,
      "outputs": []
    },
    {
      "cell_type": "markdown",
      "source": [
        "# **Step B: Train the Model**"
      ],
      "metadata": {
        "id": "WJ3g7AdIOTcm"
      }
    },
    {
      "cell_type": "markdown",
      "source": [
        "Let's reuse Cross Entropy Loss as the loss function to find the loss for each Epoch\n",
        "\n",
        "Lets also reuse Adam function for optimization to improve the model after every Epoch iteration"
      ],
      "metadata": {
        "id": "4rbpJlZtPMij"
      }
    },
    {
      "cell_type": "code",
      "source": [
        "model_nd = MLPNdLinear()\n",
        "loss_fn = nn.CrossEntropyLoss()\n",
        "optimizer = torch.optim.Adam(model_nd.parameters(), lr=0.001)\n"
      ],
      "metadata": {
        "id": "svapSHRYH3as"
      },
      "execution_count": 10,
      "outputs": []
    },
    {
      "cell_type": "code",
      "source": [
        "num_epochs = 5\n",
        "\n",
        "for epoch in range(num_epochs):\n",
        "    total_loss = 0\n",
        "    for images, labels in train_loader:\n",
        "        outputs = model_nd(images)\n",
        "        loss = loss_fn(outputs, labels)\n",
        "\n",
        "        optimizer.zero_grad()\n",
        "        loss.backward()\n",
        "        optimizer.step()\n",
        "\n",
        "#Find the loss of each Epoch\n",
        "        total_loss += loss.item()\n",
        "\n",
        "    print(f\"Epoch {epoch+1}, Loss: {total_loss:.4f}\")\n"
      ],
      "metadata": {
        "colab": {
          "base_uri": "https://localhost:8080/"
        },
        "id": "-UPZ6ExSICSe",
        "outputId": "37771ec2-48cf-4a7c-e96c-a3fe4bd4b282"
      },
      "execution_count": 11,
      "outputs": [
        {
          "output_type": "stream",
          "name": "stdout",
          "text": [
            "Epoch 1, Loss: 322.2867\n",
            "Epoch 2, Loss: 134.3982\n",
            "Epoch 3, Loss: 90.0412\n",
            "Epoch 4, Loss: 67.1315\n",
            "Epoch 5, Loss: 52.1500\n"
          ]
        }
      ]
    },
    {
      "cell_type": "markdown",
      "source": [
        "# **Step C: Evaluate Model Accuracy**"
      ],
      "metadata": {
        "id": "eF_CDvKRPaes"
      }
    },
    {
      "cell_type": "code",
      "source": [
        "correct = 0\n",
        "total = 0\n",
        "model_nd.eval()\n",
        "\n",
        "with torch.no_grad():\n",
        "    for images, labels in test_loader:\n",
        "        outputs = model_nd(images)\n",
        "        predicted = torch.argmax(outputs, dim=1)\n",
        "        total += labels.size(0)\n",
        "        correct += (predicted == labels).sum().item()\n",
        "\n",
        "accuracy = 100 * correct / total\n",
        "print(f'NdLinear Test Accuracy: {accuracy:.2f}%')\n",
        "\n",
        "#Parameters: all the trainable weights and biases across this entire model.\n",
        "print(\"NdLinear params:\", sum(p.numel() for p in model_nd.parameters()))\n"
      ],
      "metadata": {
        "colab": {
          "base_uri": "https://localhost:8080/"
        },
        "id": "4-m8gZ8uIE6q",
        "outputId": "a2eb1524-d7e0-495d-936a-426e86fddf31"
      },
      "execution_count": 12,
      "outputs": [
        {
          "output_type": "stream",
          "name": "stdout",
          "text": [
            "NdLinear Test Accuracy: 97.49%\n",
            "NdLinear params: 109386\n"
          ]
        }
      ]
    },
    {
      "cell_type": "markdown",
      "source": [
        "# **Bonus! I want to try using NdLinear with Unflattened 2D Image Inputs**\n"
      ],
      "metadata": {
        "id": "UvJO2LZAUxB4"
      }
    },
    {
      "cell_type": "markdown",
      "source": [
        "# **Step One: Build NdLinear's MLP Baseline Model while keeping the 2D structure**"
      ],
      "metadata": {
        "id": "83pqj8HUZpCv"
      }
    },
    {
      "cell_type": "code",
      "source": [
        "class NdLinear2DClassifier(nn.Module):\n",
        "    def __init__(self):\n",
        "        super().__init__()\n",
        "\n",
        "#Use NdLinear to resize and learn/supress patterns like curves and edges\n",
        "#We keep the 2D structure: (28, 28) --> (16, 16)\n",
        "        self.shrink = NdLinear(input_dims=(28, 28), hidden_size=(16, 16))\n",
        "        self.classifier = NdLinear(input_dims=(16*16,), hidden_size=(10,))\n",
        "\n",
        "    def forward(self, x):\n",
        "        x = self.shrink(x)              #(28, 28) --> (16, 16)\n",
        "        x = x.view(x.size(0), -1)       #Flatten to 256\n",
        "        return self.classifier(x)       #Return 10 logits"
      ],
      "metadata": {
        "id": "2Tra6EMyXaIB"
      },
      "execution_count": 13,
      "outputs": []
    },
    {
      "cell_type": "markdown",
      "source": [
        "# **Step Two: Train the Model**\n",
        "(Same as before)"
      ],
      "metadata": {
        "id": "AmyX4HriZztn"
      }
    },
    {
      "cell_type": "code",
      "source": [
        "#Loss function and Adam optimizer\n",
        "model_2d = NdLinear2DClassifier()\n",
        "loss_fn = nn.CrossEntropyLoss()\n",
        "optimizer = torch.optim.Adam(model_2d.parameters(), lr=0.001)"
      ],
      "metadata": {
        "id": "hUi3HsH3aFYG"
      },
      "execution_count": 14,
      "outputs": []
    },
    {
      "cell_type": "code",
      "source": [
        "num_epochs = 5\n",
        "\n",
        "for epoch in range(num_epochs):\n",
        "    total_loss = 0\n",
        "    model_2d.train()\n",
        "\n",
        "    for images, labels in train_loader:\n",
        "        images = images.squeeze(1)  # Fix: remove channel dim [64, 1, 28, 28] → [64, 28, 28]\n",
        "        outputs = model_2d(images)\n",
        "        loss = loss_fn(outputs, labels)\n",
        "\n",
        "        optimizer.zero_grad()\n",
        "        loss.backward()\n",
        "        optimizer.step()\n",
        "\n",
        "        total_loss += loss.item()\n",
        "\n",
        "    print(f\"Epoch {epoch+1}, Loss: {total_loss:.4f}\")\n"
      ],
      "metadata": {
        "colab": {
          "base_uri": "https://localhost:8080/"
        },
        "id": "C7-bQCFSaPUq",
        "outputId": "46d47dd8-8c42-4795-dea7-9124116bec20"
      },
      "execution_count": 15,
      "outputs": [
        {
          "output_type": "stream",
          "name": "stdout",
          "text": [
            "Epoch 1, Loss: 484.3930\n",
            "Epoch 2, Loss: 297.6999\n",
            "Epoch 3, Loss: 284.0469\n",
            "Epoch 4, Loss: 276.2979\n",
            "Epoch 5, Loss: 271.4765\n"
          ]
        }
      ]
    },
    {
      "cell_type": "markdown",
      "source": [
        "# **Evaluate Model Accuracy**"
      ],
      "metadata": {
        "id": "8N9KcUCecdzK"
      }
    },
    {
      "cell_type": "code",
      "source": [
        "correct = 0\n",
        "total = 0\n",
        "model_2d.eval()\n",
        "\n",
        "with torch.no_grad():\n",
        "    for images, labels in test_loader:\n",
        "        images = images.squeeze(1)\n",
        "        outputs = model_2d(images)\n",
        "        predicted = torch.argmax(outputs, dim=1)\n",
        "        total += labels.size(0)\n",
        "        correct += (predicted == labels).sum().item()\n",
        "\n",
        "accuracy = 100 * correct / total\n",
        "print(f'NdLinear 2D Classifier Accuracy: {accuracy:.2f}%')\n",
        "print(\"NdLinear 2D Classifier Params:\", sum(p.numel() for p in model_2d.parameters() if p.requires_grad))"
      ],
      "metadata": {
        "colab": {
          "base_uri": "https://localhost:8080/"
        },
        "id": "YMXNjHoUcitx",
        "outputId": "129f860f-e322-4d88-a249-7000165134e3"
      },
      "execution_count": 16,
      "outputs": [
        {
          "output_type": "stream",
          "name": "stdout",
          "text": [
            "NdLinear 2D Classifier Accuracy: 92.33%\n",
            "NdLinear 2D Classifier Params: 3498\n"
          ]
        }
      ]
    },
    {
      "cell_type": "markdown",
      "source": [
        "# **Results!**\n",
        "\n",
        "We trained and compared three models on the MNIST dataset:\n",
        "\n",
        "1. **MLP with nn.Linear** — a standard fully connected model using flattened image inputs\n",
        "2. **MLP with NdLinear (1D)** — using NdLinear as a drop-in replacement for nn.Linear, but still with flattened inputs\n",
        "3. **MLP with NdLinear (2D projection)** — using NdLinear to project from 2D image inputs (28x28) to a smaller 2D representation (16x16) before classification\n",
        "\n",
        "All models were trained for 5 epochs using the same optimizer and loss function.\n"
      ],
      "metadata": {
        "id": "h9BX1N0zQLJU"
      }
    },
    {
      "cell_type": "code",
      "source": [
        "import pandas as pd\n",
        "\n",
        "data = {\n",
        "    \"Model\": [\n",
        "        \"MLP (nn.Linear)\",\n",
        "        \"NdLinear (1D, flattened)\",\n",
        "        \"NdLinear (2D projection)\"\n",
        "    ],\n",
        "    \"Accuracy\": [\n",
        "        \"97.81%\",\n",
        "        \"97.66%\",\n",
        "        \"92.09%\"\n",
        "    ],\n",
        "    \"Parameters\": [\n",
        "        109386,\n",
        "        109386,\n",
        "        3498\n",
        "    ],\n",
        "\n",
        "}\n",
        "\n",
        "df = pd.DataFrame(data)\n",
        "df\n"
      ],
      "metadata": {
        "colab": {
          "base_uri": "https://localhost:8080/",
          "height": 143
        },
        "id": "rSQYgGPWfn-r",
        "outputId": "0a6e4ea6-d1b4-4917-ab7c-f1fc34368d29"
      },
      "execution_count": 17,
      "outputs": [
        {
          "output_type": "execute_result",
          "data": {
            "text/plain": [
              "                      Model Accuracy  Parameters\n",
              "0           MLP (nn.Linear)   97.81%      109386\n",
              "1  NdLinear (1D, flattened)   97.66%      109386\n",
              "2  NdLinear (2D projection)   92.09%        3498"
            ],
            "text/html": [
              "\n",
              "  <div id=\"df-96cba599-8aa8-4792-8278-90b640778fd4\" class=\"colab-df-container\">\n",
              "    <div>\n",
              "<style scoped>\n",
              "    .dataframe tbody tr th:only-of-type {\n",
              "        vertical-align: middle;\n",
              "    }\n",
              "\n",
              "    .dataframe tbody tr th {\n",
              "        vertical-align: top;\n",
              "    }\n",
              "\n",
              "    .dataframe thead th {\n",
              "        text-align: right;\n",
              "    }\n",
              "</style>\n",
              "<table border=\"1\" class=\"dataframe\">\n",
              "  <thead>\n",
              "    <tr style=\"text-align: right;\">\n",
              "      <th></th>\n",
              "      <th>Model</th>\n",
              "      <th>Accuracy</th>\n",
              "      <th>Parameters</th>\n",
              "    </tr>\n",
              "  </thead>\n",
              "  <tbody>\n",
              "    <tr>\n",
              "      <th>0</th>\n",
              "      <td>MLP (nn.Linear)</td>\n",
              "      <td>97.81%</td>\n",
              "      <td>109386</td>\n",
              "    </tr>\n",
              "    <tr>\n",
              "      <th>1</th>\n",
              "      <td>NdLinear (1D, flattened)</td>\n",
              "      <td>97.66%</td>\n",
              "      <td>109386</td>\n",
              "    </tr>\n",
              "    <tr>\n",
              "      <th>2</th>\n",
              "      <td>NdLinear (2D projection)</td>\n",
              "      <td>92.09%</td>\n",
              "      <td>3498</td>\n",
              "    </tr>\n",
              "  </tbody>\n",
              "</table>\n",
              "</div>\n",
              "    <div class=\"colab-df-buttons\">\n",
              "\n",
              "  <div class=\"colab-df-container\">\n",
              "    <button class=\"colab-df-convert\" onclick=\"convertToInteractive('df-96cba599-8aa8-4792-8278-90b640778fd4')\"\n",
              "            title=\"Convert this dataframe to an interactive table.\"\n",
              "            style=\"display:none;\">\n",
              "\n",
              "  <svg xmlns=\"http://www.w3.org/2000/svg\" height=\"24px\" viewBox=\"0 -960 960 960\">\n",
              "    <path d=\"M120-120v-720h720v720H120Zm60-500h600v-160H180v160Zm220 220h160v-160H400v160Zm0 220h160v-160H400v160ZM180-400h160v-160H180v160Zm440 0h160v-160H620v160ZM180-180h160v-160H180v160Zm440 0h160v-160H620v160Z\"/>\n",
              "  </svg>\n",
              "    </button>\n",
              "\n",
              "  <style>\n",
              "    .colab-df-container {\n",
              "      display:flex;\n",
              "      gap: 12px;\n",
              "    }\n",
              "\n",
              "    .colab-df-convert {\n",
              "      background-color: #E8F0FE;\n",
              "      border: none;\n",
              "      border-radius: 50%;\n",
              "      cursor: pointer;\n",
              "      display: none;\n",
              "      fill: #1967D2;\n",
              "      height: 32px;\n",
              "      padding: 0 0 0 0;\n",
              "      width: 32px;\n",
              "    }\n",
              "\n",
              "    .colab-df-convert:hover {\n",
              "      background-color: #E2EBFA;\n",
              "      box-shadow: 0px 1px 2px rgba(60, 64, 67, 0.3), 0px 1px 3px 1px rgba(60, 64, 67, 0.15);\n",
              "      fill: #174EA6;\n",
              "    }\n",
              "\n",
              "    .colab-df-buttons div {\n",
              "      margin-bottom: 4px;\n",
              "    }\n",
              "\n",
              "    [theme=dark] .colab-df-convert {\n",
              "      background-color: #3B4455;\n",
              "      fill: #D2E3FC;\n",
              "    }\n",
              "\n",
              "    [theme=dark] .colab-df-convert:hover {\n",
              "      background-color: #434B5C;\n",
              "      box-shadow: 0px 1px 3px 1px rgba(0, 0, 0, 0.15);\n",
              "      filter: drop-shadow(0px 1px 2px rgba(0, 0, 0, 0.3));\n",
              "      fill: #FFFFFF;\n",
              "    }\n",
              "  </style>\n",
              "\n",
              "    <script>\n",
              "      const buttonEl =\n",
              "        document.querySelector('#df-96cba599-8aa8-4792-8278-90b640778fd4 button.colab-df-convert');\n",
              "      buttonEl.style.display =\n",
              "        google.colab.kernel.accessAllowed ? 'block' : 'none';\n",
              "\n",
              "      async function convertToInteractive(key) {\n",
              "        const element = document.querySelector('#df-96cba599-8aa8-4792-8278-90b640778fd4');\n",
              "        const dataTable =\n",
              "          await google.colab.kernel.invokeFunction('convertToInteractive',\n",
              "                                                    [key], {});\n",
              "        if (!dataTable) return;\n",
              "\n",
              "        const docLinkHtml = 'Like what you see? Visit the ' +\n",
              "          '<a target=\"_blank\" href=https://colab.research.google.com/notebooks/data_table.ipynb>data table notebook</a>'\n",
              "          + ' to learn more about interactive tables.';\n",
              "        element.innerHTML = '';\n",
              "        dataTable['output_type'] = 'display_data';\n",
              "        await google.colab.output.renderOutput(dataTable, element);\n",
              "        const docLink = document.createElement('div');\n",
              "        docLink.innerHTML = docLinkHtml;\n",
              "        element.appendChild(docLink);\n",
              "      }\n",
              "    </script>\n",
              "  </div>\n",
              "\n",
              "\n",
              "<div id=\"df-f0d85173-abf7-4f90-bd53-79453824840f\">\n",
              "  <button class=\"colab-df-quickchart\" onclick=\"quickchart('df-f0d85173-abf7-4f90-bd53-79453824840f')\"\n",
              "            title=\"Suggest charts\"\n",
              "            style=\"display:none;\">\n",
              "\n",
              "<svg xmlns=\"http://www.w3.org/2000/svg\" height=\"24px\"viewBox=\"0 0 24 24\"\n",
              "     width=\"24px\">\n",
              "    <g>\n",
              "        <path d=\"M19 3H5c-1.1 0-2 .9-2 2v14c0 1.1.9 2 2 2h14c1.1 0 2-.9 2-2V5c0-1.1-.9-2-2-2zM9 17H7v-7h2v7zm4 0h-2V7h2v10zm4 0h-2v-4h2v4z\"/>\n",
              "    </g>\n",
              "</svg>\n",
              "  </button>\n",
              "\n",
              "<style>\n",
              "  .colab-df-quickchart {\n",
              "      --bg-color: #E8F0FE;\n",
              "      --fill-color: #1967D2;\n",
              "      --hover-bg-color: #E2EBFA;\n",
              "      --hover-fill-color: #174EA6;\n",
              "      --disabled-fill-color: #AAA;\n",
              "      --disabled-bg-color: #DDD;\n",
              "  }\n",
              "\n",
              "  [theme=dark] .colab-df-quickchart {\n",
              "      --bg-color: #3B4455;\n",
              "      --fill-color: #D2E3FC;\n",
              "      --hover-bg-color: #434B5C;\n",
              "      --hover-fill-color: #FFFFFF;\n",
              "      --disabled-bg-color: #3B4455;\n",
              "      --disabled-fill-color: #666;\n",
              "  }\n",
              "\n",
              "  .colab-df-quickchart {\n",
              "    background-color: var(--bg-color);\n",
              "    border: none;\n",
              "    border-radius: 50%;\n",
              "    cursor: pointer;\n",
              "    display: none;\n",
              "    fill: var(--fill-color);\n",
              "    height: 32px;\n",
              "    padding: 0;\n",
              "    width: 32px;\n",
              "  }\n",
              "\n",
              "  .colab-df-quickchart:hover {\n",
              "    background-color: var(--hover-bg-color);\n",
              "    box-shadow: 0 1px 2px rgba(60, 64, 67, 0.3), 0 1px 3px 1px rgba(60, 64, 67, 0.15);\n",
              "    fill: var(--button-hover-fill-color);\n",
              "  }\n",
              "\n",
              "  .colab-df-quickchart-complete:disabled,\n",
              "  .colab-df-quickchart-complete:disabled:hover {\n",
              "    background-color: var(--disabled-bg-color);\n",
              "    fill: var(--disabled-fill-color);\n",
              "    box-shadow: none;\n",
              "  }\n",
              "\n",
              "  .colab-df-spinner {\n",
              "    border: 2px solid var(--fill-color);\n",
              "    border-color: transparent;\n",
              "    border-bottom-color: var(--fill-color);\n",
              "    animation:\n",
              "      spin 1s steps(1) infinite;\n",
              "  }\n",
              "\n",
              "  @keyframes spin {\n",
              "    0% {\n",
              "      border-color: transparent;\n",
              "      border-bottom-color: var(--fill-color);\n",
              "      border-left-color: var(--fill-color);\n",
              "    }\n",
              "    20% {\n",
              "      border-color: transparent;\n",
              "      border-left-color: var(--fill-color);\n",
              "      border-top-color: var(--fill-color);\n",
              "    }\n",
              "    30% {\n",
              "      border-color: transparent;\n",
              "      border-left-color: var(--fill-color);\n",
              "      border-top-color: var(--fill-color);\n",
              "      border-right-color: var(--fill-color);\n",
              "    }\n",
              "    40% {\n",
              "      border-color: transparent;\n",
              "      border-right-color: var(--fill-color);\n",
              "      border-top-color: var(--fill-color);\n",
              "    }\n",
              "    60% {\n",
              "      border-color: transparent;\n",
              "      border-right-color: var(--fill-color);\n",
              "    }\n",
              "    80% {\n",
              "      border-color: transparent;\n",
              "      border-right-color: var(--fill-color);\n",
              "      border-bottom-color: var(--fill-color);\n",
              "    }\n",
              "    90% {\n",
              "      border-color: transparent;\n",
              "      border-bottom-color: var(--fill-color);\n",
              "    }\n",
              "  }\n",
              "</style>\n",
              "\n",
              "  <script>\n",
              "    async function quickchart(key) {\n",
              "      const quickchartButtonEl =\n",
              "        document.querySelector('#' + key + ' button');\n",
              "      quickchartButtonEl.disabled = true;  // To prevent multiple clicks.\n",
              "      quickchartButtonEl.classList.add('colab-df-spinner');\n",
              "      try {\n",
              "        const charts = await google.colab.kernel.invokeFunction(\n",
              "            'suggestCharts', [key], {});\n",
              "      } catch (error) {\n",
              "        console.error('Error during call to suggestCharts:', error);\n",
              "      }\n",
              "      quickchartButtonEl.classList.remove('colab-df-spinner');\n",
              "      quickchartButtonEl.classList.add('colab-df-quickchart-complete');\n",
              "    }\n",
              "    (() => {\n",
              "      let quickchartButtonEl =\n",
              "        document.querySelector('#df-f0d85173-abf7-4f90-bd53-79453824840f button');\n",
              "      quickchartButtonEl.style.display =\n",
              "        google.colab.kernel.accessAllowed ? 'block' : 'none';\n",
              "    })();\n",
              "  </script>\n",
              "</div>\n",
              "\n",
              "  <div id=\"id_a0c11ceb-f3cd-406e-8740-92fa7e0914f8\">\n",
              "    <style>\n",
              "      .colab-df-generate {\n",
              "        background-color: #E8F0FE;\n",
              "        border: none;\n",
              "        border-radius: 50%;\n",
              "        cursor: pointer;\n",
              "        display: none;\n",
              "        fill: #1967D2;\n",
              "        height: 32px;\n",
              "        padding: 0 0 0 0;\n",
              "        width: 32px;\n",
              "      }\n",
              "\n",
              "      .colab-df-generate:hover {\n",
              "        background-color: #E2EBFA;\n",
              "        box-shadow: 0px 1px 2px rgba(60, 64, 67, 0.3), 0px 1px 3px 1px rgba(60, 64, 67, 0.15);\n",
              "        fill: #174EA6;\n",
              "      }\n",
              "\n",
              "      [theme=dark] .colab-df-generate {\n",
              "        background-color: #3B4455;\n",
              "        fill: #D2E3FC;\n",
              "      }\n",
              "\n",
              "      [theme=dark] .colab-df-generate:hover {\n",
              "        background-color: #434B5C;\n",
              "        box-shadow: 0px 1px 3px 1px rgba(0, 0, 0, 0.15);\n",
              "        filter: drop-shadow(0px 1px 2px rgba(0, 0, 0, 0.3));\n",
              "        fill: #FFFFFF;\n",
              "      }\n",
              "    </style>\n",
              "    <button class=\"colab-df-generate\" onclick=\"generateWithVariable('df')\"\n",
              "            title=\"Generate code using this dataframe.\"\n",
              "            style=\"display:none;\">\n",
              "\n",
              "  <svg xmlns=\"http://www.w3.org/2000/svg\" height=\"24px\"viewBox=\"0 0 24 24\"\n",
              "       width=\"24px\">\n",
              "    <path d=\"M7,19H8.4L18.45,9,17,7.55,7,17.6ZM5,21V16.75L18.45,3.32a2,2,0,0,1,2.83,0l1.4,1.43a1.91,1.91,0,0,1,.58,1.4,1.91,1.91,0,0,1-.58,1.4L9.25,21ZM18.45,9,17,7.55Zm-12,3A5.31,5.31,0,0,0,4.9,8.1,5.31,5.31,0,0,0,1,6.5,5.31,5.31,0,0,0,4.9,4.9,5.31,5.31,0,0,0,6.5,1,5.31,5.31,0,0,0,8.1,4.9,5.31,5.31,0,0,0,12,6.5,5.46,5.46,0,0,0,6.5,12Z\"/>\n",
              "  </svg>\n",
              "    </button>\n",
              "    <script>\n",
              "      (() => {\n",
              "      const buttonEl =\n",
              "        document.querySelector('#id_a0c11ceb-f3cd-406e-8740-92fa7e0914f8 button.colab-df-generate');\n",
              "      buttonEl.style.display =\n",
              "        google.colab.kernel.accessAllowed ? 'block' : 'none';\n",
              "\n",
              "      buttonEl.onclick = () => {\n",
              "        google.colab.notebook.generateWithVariable('df');\n",
              "      }\n",
              "      })();\n",
              "    </script>\n",
              "  </div>\n",
              "\n",
              "    </div>\n",
              "  </div>\n"
            ],
            "application/vnd.google.colaboratory.intrinsic+json": {
              "type": "dataframe",
              "variable_name": "df",
              "summary": "{\n  \"name\": \"df\",\n  \"rows\": 3,\n  \"fields\": [\n    {\n      \"column\": \"Model\",\n      \"properties\": {\n        \"dtype\": \"string\",\n        \"num_unique_values\": 3,\n        \"samples\": [\n          \"MLP (nn.Linear)\",\n          \"NdLinear (1D, flattened)\",\n          \"NdLinear (2D projection)\"\n        ],\n        \"semantic_type\": \"\",\n        \"description\": \"\"\n      }\n    },\n    {\n      \"column\": \"Accuracy\",\n      \"properties\": {\n        \"dtype\": \"string\",\n        \"num_unique_values\": 3,\n        \"samples\": [\n          \"97.81%\",\n          \"97.66%\",\n          \"92.09%\"\n        ],\n        \"semantic_type\": \"\",\n        \"description\": \"\"\n      }\n    },\n    {\n      \"column\": \"Parameters\",\n      \"properties\": {\n        \"dtype\": \"number\",\n        \"std\": 61134,\n        \"min\": 3498,\n        \"max\": 109386,\n        \"num_unique_values\": 2,\n        \"samples\": [\n          3498,\n          109386\n        ],\n        \"semantic_type\": \"\",\n        \"description\": \"\"\n      }\n    }\n  ]\n}"
            }
          },
          "metadata": {},
          "execution_count": 17
        }
      ]
    },
    {
      "cell_type": "markdown",
      "source": [
        "**Using nn.Linear**\n",
        "\n",
        " Test Accuracy: 97.81%\n",
        "\n",
        " Baseline params: 109386\n",
        "\n",
        "\n",
        "**Using NdLinear**\n",
        "\n",
        "  Test Accuracy: 97.66 %\n",
        "\n",
        "  Baseline params: 109386\n",
        "\n",
        "**Using 2D NdLinear Classifier**\n",
        "\n",
        "  Test Accuracy: 92.09 %\n",
        "\n",
        "  Baseline params: 3498"
      ],
      "metadata": {
        "id": "0cayjRSiQqPn"
      }
    },
    {
      "cell_type": "markdown",
      "source": [
        "The standard MLP using nn.Linear achieved 97.81% accuracy with 109,386 parameters. Replacing it with NdLinear in 1D kept the same parameter count and scored 97.66%, showing it works well as a drop-in replacement.\n",
        "\n",
        "\n",
        "The 2D NdLinear model projected the image from 28×28 to 16×16, reducing parameters to just 3,498 — a 97% decrease — but accuracy dropped to 92.09%. This highlights a trade-off: massive size savings which makes it faster and have a smaller memory footprint at the cost of some performance."
      ],
      "metadata": {
        "id": "52d28B-zRPCw"
      }
    }
  ]
}